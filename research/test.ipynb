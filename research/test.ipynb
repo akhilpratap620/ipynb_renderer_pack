{
 "cells": [
  {
   "cell_type": "code",
   "execution_count": 3,
   "metadata": {},
   "outputs": [],
   "source": [
    "url =\"https://youtu.be/4zAhOf1Fwwc?t=60\""
   ]
  },
  {
   "cell_type": "code",
   "execution_count": 4,
   "metadata": {},
   "outputs": [
    {
     "data": {
      "text/plain": [
       "['https://youtu.be/4zAhOf1Fwwc?t', '60']"
      ]
     },
     "execution_count": 4,
     "metadata": {},
     "output_type": "execute_result"
    }
   ],
   "source": [
    "url.split(\"=\")"
   ]
  },
  {
   "cell_type": "code",
   "execution_count": 15,
   "metadata": {},
   "outputs": [
    {
     "data": {
      "text/plain": [
       "'4zAhOf1Fwwc'"
      ]
     },
     "execution_count": 15,
     "metadata": {},
     "output_type": "execute_result"
    }
   ],
   "source": [
    "(url.split(\"=\")[0].split(\"/\"))[-1][:-2]"
   ]
  },
  {
   "cell_type": "code",
   "execution_count": 17,
   "metadata": {},
   "outputs": [],
   "source": [
    "a=\"https://youtu.be/4zAhOf1Fwwc?t=60\""
   ]
  },
  {
   "cell_type": "code",
   "execution_count": 23,
   "metadata": {},
   "outputs": [
    {
     "data": {
      "text/plain": [
       "'4zAhOf1Fwwc'"
      ]
     },
     "execution_count": 23,
     "metadata": {},
     "output_type": "execute_result"
    }
   ],
   "source": [
    "(a.split(\"=\")[-2]).split(\"/\")[-1][:-2]"
   ]
  },
  {
   "cell_type": "code",
   "execution_count": 27,
   "metadata": {},
   "outputs": [],
   "source": [
    "os.chdir(\"../\")"
   ]
  },
  {
   "cell_type": "code",
   "execution_count": 28,
   "metadata": {},
   "outputs": [
    {
     "data": {
      "text/plain": [
       "'c:\\\\Users\\\\somit\\\\Downloads\\\\project_ineuron\\\\ipynb_renderer_pack'"
      ]
     },
     "execution_count": 28,
     "metadata": {},
     "output_type": "execute_result"
    }
   ],
   "source": [
    "os.getcwd()"
   ]
  },
  {
   "cell_type": "code",
   "execution_count": 4,
   "metadata": {},
   "outputs": [],
   "source": [
    "from IPYNBrenderer import render_YouTube_video"
   ]
  },
  {
   "cell_type": "code",
   "execution_count": 5,
   "metadata": {},
   "outputs": [],
   "source": [
    "URL =\"https://youtu.be/4zAhOf1Fwwc?t=60\""
   ]
  },
  {
   "cell_type": "code",
   "execution_count": 6,
   "metadata": {},
   "outputs": [
    {
     "name": "stdout",
     "output_type": "stream",
     "text": [
      "[2022-10-18 22:52:53,043: INFO]: video starts at: 60\n",
      "[2022-10-18 22:52:53,045: INFO]: embed URL: https://www.youtube.com/embed/4zAhOf1Fwwc?start=60\n"
     ]
    },
    {
     "data": {
      "text/html": [
       "<iframe\n",
       "            width=\"780\" height=\"600\"\n",
       "            src=\"https://www.youtube.com/embed/4zAhOf1Fwwc?start=60\"\n",
       "            title=\"YouTube video player\"\n",
       "            frameborder=\"0\"\n",
       "            allow=\"accelerometer;\n",
       "            autoplay; clipboard-write;\n",
       "            encrypted-media; gyroscope;\n",
       "            picture-in-picture\" allowfullscreen>\n",
       "            </iframe>\n",
       "            "
      ],
      "text/plain": [
       "<IPython.core.display.HTML object>"
      ]
     },
     "metadata": {},
     "output_type": "display_data"
    },
    {
     "data": {
      "text/plain": [
       "'success'"
      ]
     },
     "execution_count": 6,
     "metadata": {},
     "output_type": "execute_result"
    }
   ],
   "source": [
    "render_YouTube_video(URL=URL)"
   ]
  }
 ],
 "metadata": {
  "kernelspec": {
   "display_name": "Python 3.8.13 64-bit ('env_ren')",
   "language": "python",
   "name": "python3"
  },
  "language_info": {
   "codemirror_mode": {
    "name": "ipython",
    "version": 3
   },
   "file_extension": ".py",
   "mimetype": "text/x-python",
   "name": "python",
   "nbconvert_exporter": "python",
   "pygments_lexer": "ipython3",
   "version": "3.8.13"
  },
  "orig_nbformat": 4,
  "vscode": {
   "interpreter": {
    "hash": "a791c67baee65f8fb175fabf774e5ceb64d97fc55352dd6ac56a8ee8827eb585"
   }
  }
 },
 "nbformat": 4,
 "nbformat_minor": 2
}
